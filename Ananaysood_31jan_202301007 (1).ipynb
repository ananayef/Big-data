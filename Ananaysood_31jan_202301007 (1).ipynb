{
  "nbformat": 4,
  "nbformat_minor": 0,
  "metadata": {
    "colab": {
      "provenance": []
    },
    "kernelspec": {
      "name": "python3",
      "display_name": "Python 3"
    },
    "language_info": {
      "name": "python"
    }
  },
  "cells": [
    {
      "cell_type": "code",
      "execution_count": 2,
      "metadata": {
        "id": "xmaRDYPTKUH7",
        "colab": {
          "base_uri": "https://localhost:8080/",
          "height": 140
        },
        "outputId": "aefc1c2a-2070-4756-9899-0a7098ff9927"
      },
      "outputs": [
        {
          "output_type": "error",
          "ename": "IndentationError",
          "evalue": "unindent does not match any outer indentation level (<tokenize>, line 52)",
          "traceback": [
            "\u001b[0;36m  File \u001b[0;32m\"<tokenize>\"\u001b[0;36m, line \u001b[0;32m52\u001b[0m\n\u001b[0;31m    return Sum\u001b[0m\n\u001b[0m    ^\u001b[0m\n\u001b[0;31mIndentationError\u001b[0m\u001b[0;31m:\u001b[0m unindent does not match any outer indentation level\n"
          ]
        }
      ],
      "source": [
        "#ques-1)Reverse the NumPy array: arr = np.array([1, 2, 3, 6, 4, 5]) )\n",
        "import numpy as np\n",
        "my_array = np.array([1, 2, 3, 6, 4, 5])\n",
        "res = np.flip(my_array)\n",
        "print(\"The final array is:\", str(res))\n",
        "import numpy as np\n",
        "my_array = np.array([1, 2, 3, 6, 4, 5])\n",
        "print(\"initial array\", str(my_array))\n",
        "print(\"type of ini_array\", type(my_array))\n",
        "res = my_array[::-1]\n",
        "print(\"final array\", str(res))\n",
        "\n",
        "#ques-2)Compare the following numpy arrays: arr1 = np.array([[1, 2], [3, 4]])\n",
        "#arr2 = np.array([[1, 2], [3, 4]])\n",
        "import numpy as np\n",
        "arr1 = np.array([[1, 2], [3, 4]])\n",
        "arr2 = np.array([[1, 2], [3, 4]])\n",
        "\n",
        "if np.array_equal(arr1, arr2):\n",
        "\tprint(\"Equal\")\n",
        "else:\n",
        "\tprint(\"Not Equal\")\n",
        "#ques-3)Find the most frequent value and their indice(s) in the following arrays:\n",
        "#i. x = np.array([1,2,3,4,5,1,2,1,1,1])\n",
        "#ii. y = np.array([1, 1, 1, 2, 3, 4, 2, 4, 3, 3, ])\n",
        "import numpy as np\n",
        "x = np.array([1,2,3,4,5,1,2,1,1,1])\n",
        "print(\"Original array:\")\n",
        "print(x)\n",
        "print(\"The frequent value in the above array:\")\n",
        "print(np.bincount(x).argmax())\n",
        "import numpy as np\n",
        "x = np.array([1, 1, 1, 2, 3, 4, 2, 4, 3, 3, ])\n",
        "print(\"Original array:\")\n",
        "print(x)\n",
        "print(\"The frequent value in above array\")\n",
        "y = np.bincount(x)\n",
        "maximum = max(y)\n",
        "\n",
        "for i in range(len(y)):\n",
        "\tif y[i] == maximum:\n",
        "\t\tprint(i, end=\" \")\n",
        "#ques-4)For the array gfg = np.matrix('[4, 1, 9; 12, 3, 1; 4, 5, 6]'),\n",
        "#find i. Sum of all elements\n",
        "#ii. Sum of all elements row-wise\n",
        "#iii. Sum of all elements column-wise\n",
        "def sumOfMatrix(N, M, mat):\n",
        "\tSum = 0\n",
        "for i in range(N):\n",
        "\t\tfor j in range(M):\n",
        "\t\t\tSum += mat[i][j]\n",
        "\treturn Sum\n",
        "\n",
        "\n",
        "mat = [[4,1,9],\n",
        "\t[12,3,1],\n",
        "  [4,5,6]]\n",
        "N = len(mat)\n",
        "M = len(mat[0])\n",
        "printsumOfMatrix(N, M, mat)\n",
        "\n",
        "\n",
        "\n"
      ]
    }
  ]
}