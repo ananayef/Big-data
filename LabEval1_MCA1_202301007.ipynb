{
  "nbformat": 4,
  "nbformat_minor": 0,
  "metadata": {
    "colab": {
      "provenance": [],
      "authorship_tag": "ABX9TyOfa6BwRmDs7XcTUPPS7liG",
      "include_colab_link": true
    },
    "kernelspec": {
      "name": "python3",
      "display_name": "Python 3"
    },
    "language_info": {
      "name": "python"
    }
  },
  "cells": [
    {
      "cell_type": "markdown",
      "metadata": {
        "id": "view-in-github",
        "colab_type": "text"
      },
      "source": [
        "<a href=\"https://colab.research.google.com/github/ananayef/Big-data/blob/main/LabEval1_MCA1_202301007.ipynb\" target=\"_parent\"><img src=\"https://colab.research.google.com/assets/colab-badge.svg\" alt=\"Open In Colab\"/></a>"
      ]
    },
    {
      "cell_type": "code",
      "execution_count": 6,
      "metadata": {
        "id": "ejoiQi4mlkPu",
        "colab": {
          "base_uri": "https://localhost:8080/"
        },
        "outputId": "e913b9cb-14e2-451c-f531-d481624ef10f"
      },
      "outputs": [
        {
          "output_type": "stream",
          "name": "stdout",
          "text": [
            "Product matrix r:\n",
            "[[16 19]\n",
            " [26 31]]\n",
            "Product matrix r:\n",
            "[[16 19]\n",
            " [26 31]]\n",
            "\n",
            "Determinant of matrix p: -1.0\n",
            "Determinant of matrix q: -2.000000000000003\n",
            "\n",
            "Covariance matrix:\n",
            "[[0.5 0.5 1.  1. ]\n",
            " [0.5 0.5 1.  1. ]\n",
            " [1.  1.  2.  2. ]\n",
            " [1.  1.  2.  2. ]]\n"
          ]
        }
      ],
      "source": [
        "\n",
        "import numpy as np\n",
        "p = np.array([[1, 2], [2, 3]])\n",
        "q = np.array([[4, 5], [6, 7]])\n",
        "r = np.dot(p, q)\n",
        "\n",
        "print(\"Product matrix r:\")\n",
        "print(r)\n",
        "\n",
        "import numpy as np\n",
        "p = np.array([[1, 2], [2, 3]])\n",
        "q = np.array([[4, 5], [6, 7]])\n",
        "r = np.dot(p, q)\n",
        "dp = np.linalg.det(p)\n",
        "dq = np.linalg.det(q)\n",
        "c = np.cov(p, q, rowvar=False)\n",
        "print(\"Product matrix r:\")\n",
        "print(r)\n",
        "print(\"\\nDeterminant of matrix p:\", dp)\n",
        "print(\"Determinant of matrix q:\", dq)\n",
        "print(\"\\nCovariance matrix:\")\n",
        "print(c)"
      ]
    }
  ]
}